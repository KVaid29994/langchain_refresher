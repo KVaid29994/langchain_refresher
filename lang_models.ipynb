{
 "cells": [
  {
   "cell_type": "markdown",
   "id": "552d1052",
   "metadata": {},
   "source": [
    "## **What is the models Component?**"
   ]
  },
  {
   "cell_type": "markdown",
   "id": "d862b8dd",
   "metadata": {},
   "source": [
    "In LangChain, the models component is a foundational part of the framework. It acts as the interface between LangChain and various language models, including large language models (LLMs), chat models, and text embedding models. This component provides the abstraction needed to use models from different providers (e.g., OpenAI, Cohere, Anthropic, HuggingFace) in a unified and consistent way."
   ]
  },
  {
   "cell_type": "markdown",
   "id": "9999649d",
   "metadata": {},
   "source": [
    "The models component in LangChain:\n",
    "\n",
    "- Standardizes how you interact with language models.\n",
    "\n",
    "- Wraps third-party APIs or open-source LLMs (like GPT-4, Claude, LLaMA, Mistral, etc.).\n",
    "\n",
    "- Allows swapping models without changing the rest of your code.\n",
    "\n",
    "- Supports different types of models, such as:\n",
    "\n",
    "- LLMs: for text generation\n",
    "\n",
    "- Chat models: for message-based interactions\n",
    "\n",
    "- Embedding models: for generating vector representations\n",
    "\n"
   ]
  },
  {
   "cell_type": "markdown",
   "id": "e1af3cef",
   "metadata": {},
   "source": [
    "🧠 Key Model Types in LangChain\n",
    "LangChain defines base interfaces for the following types of models:\n",
    "\n",
    "1. LLMs (BaseLLM)\n",
    "- These models generate free-form text.\n",
    "- Examples: OpenAI’s text-davinci-003, Cohere's command models.\n",
    "- Use-case: summarization, text generation, QA"
   ]
  },
  {
   "cell_type": "markdown",
   "id": "68e7b50a",
   "metadata": {},
   "source": [
    "2. Chat Models (BaseChatModel)\n",
    "- Modeled after tools like ChatGPT and Claude that use conversational context.\n",
    "- Accept structured input as ChatMessage objects.\n"
   ]
  },
  {
   "cell_type": "markdown",
   "id": "93a2c605",
   "metadata": {},
   "source": [
    "3. Embedding Models (BaseEmbedding)\n",
    "- Convert text into vector embeddings for semantic search or similarity.\n"
   ]
  },
  {
   "cell_type": "markdown",
   "id": "7aa70097",
   "metadata": {},
   "source": [
    "| Aspect              | Details                                                                |\n",
    "| ------------------- | ---------------------------------------------------------------------- |\n",
    "| Purpose             | Interface to LLMs, chat models, and embeddings                         |\n",
    "| Key types           | `LLM`, `ChatModel`, `Embeddings`                                       |\n",
    "| Supported Providers | OpenAI, Cohere, Anthropic, HuggingFace, Google, etc.                   |\n",
    "| Benefits            | Standardization, modularity, and easy integration with LangChain tools |\n"
   ]
  },
  {
   "cell_type": "markdown",
   "id": "7180da9e",
   "metadata": {},
   "source": []
  }
 ],
 "metadata": {
  "language_info": {
   "name": "python"
  }
 },
 "nbformat": 4,
 "nbformat_minor": 5
}
